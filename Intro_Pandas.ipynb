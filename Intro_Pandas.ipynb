{
  "nbformat": 4,
  "nbformat_minor": 0,
  "metadata": {
    "colab": {
      "name": "Intro_Pandas.ipynb",
      "provenance": [],
      "collapsed_sections": [],
      "authorship_tag": "ABX9TyPEOYrupZ8h94ZPMyi6UDaF",
      "include_colab_link": true
    },
    "kernelspec": {
      "name": "python3",
      "display_name": "Python 3"
    }
  },
  "cells": [
    {
      "cell_type": "markdown",
      "metadata": {
        "id": "view-in-github",
        "colab_type": "text"
      },
      "source": [
        "<a href=\"https://colab.research.google.com/github/jtkomati/Portfolio/blob/master/Intro_Pandas.ipynb\" target=\"_parent\"><img src=\"https://colab.research.google.com/assets/colab-badge.svg\" alt=\"Open In Colab\"/></a>"
      ]
    },
    {
      "cell_type": "markdown",
      "metadata": {
        "id": "OfwrPswBd5h7",
        "colab_type": "text"
      },
      "source": [
        "# Introdução ao Pandas\n",
        "\n",
        "Pandas é uma biblioteca do Python, provavelmente a mais popular de todas quando se trata de *Data Science*.\n",
        "\n",
        "Por meio do Pandas, você consegue importar dados (arquivos `csv`e `xls`, por exemplo), tratar esses dados, transformá-los e realizar análises completas dos mesmos.\n",
        "\n",
        "Uma vez que você importa um conjunto de dados usando Pandas, fica muito fácil fazer coisas do tipo:\n",
        "\n",
        "* Extrai informações estatísticas\n",
        "  * Qual a média, mediana, valores máximos e mínimos?\n",
        "  * Qual é a distribuição das suas variáveis?\n",
        "  * Qual a correlação entre duas variáveis quaisquer?\n",
        "* Exportar os dados para um novo formato de arquivo\n",
        "* Visualizar gráficos dos mais diferentes tipos\n",
        "* Alimentar modelos de *machine learning* feitos em cima do Scikit-learn\n",
        "\n",
        "Pandas é construído em cima de outra biblioteca extremamente popular, o **NumPy**. Quem já utilizou esta, vai encontrar muita similaridade com aquela."
      ]
    },
    {
      "cell_type": "markdown",
      "metadata": {
        "id": "1itubzy2eGf7",
        "colab_type": "text"
      },
      "source": [
        "## Instalando e utilizando o Pandas\n",
        "\n",
        "Caso você esteja rodando o código na sua máquina local, o Pandas pode ser instalado pela linha de comando usando o seu gerenciador de pacotes (`pip` ou `conda`).\n",
        "\n",
        "Dependendo de qual deles seja, o comando que você deve usar é\n",
        "\n",
        "`pip install pandas`\n",
        "\n",
        "ou \n",
        "\n",
        "`conda install pandas`\n",
        "\n",
        "Como estamos usando o Colab neste curso, o Pandas vem instalado por padrão. Ou seja, a única coisa que você precisa é importar o pacote. Normalmente, para importar qualquer pacote basta apenas usar o comando `import nome_do_pacote`.\n",
        "\n",
        "No entanto, é muito comum a gente importar o Pandas usando `import pandas as pd` para abreviar o nome da biblioteca. Se você reparar em projetos de outros cientistas de dados, vai ver que esse é (provavelmente) a maneira que eles utilizam."
      ]
    },
    {
      "cell_type": "code",
      "metadata": {
        "id": "qRJJuBZAeVhI",
        "colab_type": "code",
        "colab": {}
      },
      "source": [
        "# importar a biblioteca pandas\n",
        "import pandas as pd"
      ],
      "execution_count": 0,
      "outputs": []
    },
    {
      "cell_type": "markdown",
      "metadata": {
        "id": "wOvdQNaredas",
        "colab_type": "text"
      },
      "source": [
        "### Importar arquivos `csv`\n",
        "\n",
        "Para dar um exemplo de como é simples importar dados com o Pandas, veja o seguinte exemplo.\n",
        "\n",
        "Pelo site [Yahoo Finance](https://finance.yahoo.com/quote/BBAS3.SA/history?p=BBAS3.SA), baixei os dados da ação da Casio Computer Co.,Ltd. (6952.T) em formato `csv` e disponibilizei o arquivo [neste link](https://raw.githubusercontent.com/jtkomati/Portfolio/master/6952.T.csv). Se eu abrir esse arquivo na minha máquina pelo Excel, é assim que ele vai aparecer para mim:\n",
        "\n",
        "<center><img src=\"https://github.com/jtkomati/Portfolio/blob/master/Excel%20Casio%20Computer.JPG\" height=\"300px\"></center>\n",
        "\n",
        "Importar esse mesmo arquivo usando o Pandas é tão simples quanto executar a função `pd.read_csv(\"local_do_arquivo.csv\")`, informando qual o endereço que o `csv` se encontra (endereço na internet ou caminho na máquia local."
      ]
    },
    {
      "cell_type": "code",
      "metadata": {
        "id": "lEbeVaiyhj0P",
        "colab_type": "code",
        "colab": {}
      },
      "source": [
        "# importar o arquivo csv para o Pandas\n",
        "df = pd.read_csv(\"https://raw.githubusercontent.com/jtkomati/Portfolio/master/6952.T.csv\")"
      ],
      "execution_count": 0,
      "outputs": []
    },
    {
      "cell_type": "markdown",
      "metadata": {
        "id": "9d1aERBkhzLh",
        "colab_type": "text"
      },
      "source": [
        "### Conhecendo os componentes básicos do Pandas\n",
        "\n",
        "Os dois componentes básicos que a gente deve conhecer quando lidando com Pandas são `Series` e `DataFrame`. \n",
        "\n",
        "<center><img src=\"https://raw.githubusercontent.com/carlosfab/curso_data_science_na_pratica/master/modulo_02/componentes_pandas.png\"></center>\n",
        "\n",
        "Simplificadamente, você pode pensar o `DataFrame` como sendo uma planilha de Excel, e `Series` como sendo apenas uma coluna individual.\n",
        "\n",
        "Apesar de parecer conceitualmente simples, estas duas estruturas nativas do Pandas facilitam muito o trabalho com dados, uma vez que elas podem armazenar qualquer tipo de dado.\n",
        "\n",
        "* `type()` - mostra qual o tipo da variável"
      ]
    },
    {
      "cell_type": "code",
      "metadata": {
        "id": "UjsBR0frh_Gq",
        "colab_type": "code",
        "colab": {
          "base_uri": "https://localhost:8080/",
          "height": 34
        },
        "outputId": "3e499259-b595-4f3e-e995-c71bdccc8639"
      },
      "source": [
        "# ver o tipo da variável df\n",
        "type(df)"
      ],
      "execution_count": 4,
      "outputs": [
        {
          "output_type": "execute_result",
          "data": {
            "text/plain": [
              "pandas.core.frame.DataFrame"
            ]
          },
          "metadata": {
            "tags": []
          },
          "execution_count": 4
        }
      ]
    },
    {
      "cell_type": "markdown",
      "metadata": {
        "id": "p09b7V98iEYH",
        "colab_type": "text"
      },
      "source": [
        "### Ver dimensões do DataFrame\n",
        "\n",
        "Veja novamente a imagem acima. Basicamente, o arquivo que importamos se parece com uma simples tabela de Excel, composta por linhas e colunas. Para você ver o tamanho dessa \"tabela\", o que significa ver o formato (*shape*) dela, basta executar `df.shape`."
      ]
    },
    {
      "cell_type": "code",
      "metadata": {
        "id": "kv-ykVYHiJ9L",
        "colab_type": "code",
        "colab": {
          "base_uri": "https://localhost:8080/",
          "height": 34
        },
        "outputId": "7a810dcc-2762-495e-e8ea-3fa4558afb76"
      },
      "source": [
        "# ver o tamanho do dataframe (formato)\n",
        "df.shape"
      ],
      "execution_count": 5,
      "outputs": [
        {
          "output_type": "execute_result",
          "data": {
            "text/plain": [
              "(243, 7)"
            ]
          },
          "metadata": {
            "tags": []
          },
          "execution_count": 5
        }
      ]
    },
    {
      "cell_type": "markdown",
      "metadata": {
        "id": "KmdxAMvZiODY",
        "colab_type": "text"
      },
      "source": [
        "Quando você executar a célula acima, vai receber como *output* os valores `(243, 7)`. Isso significa que o arquivo importado possui 243 linhas e 7 colunas. "
      ]
    },
    {
      "cell_type": "markdown",
      "metadata": {
        "id": "i8ieyMWWiU5B",
        "colab_type": "text"
      },
      "source": [
        "### Conhecendo os dados\n",
        "\n",
        "Uma vez que você importou a sua base de dados para o Pandas, existem muitos atributos e métodos nativos da estrutura *DataFrame* que facilitam muito a exploração de dados.\n",
        "\n",
        "Uma das principais funções da biblioteca, e que você irá usar em praticamente todos os seus projetos é `df.head()` e `df.tail()`.\n",
        "\n",
        "O arquivo `csv` com os dados da ação Casio Computer Co.,Ltd. (6952.T) contém 243 linhas, mas o normal é você lidar com milhares ou centenas de milhares de linhas. Obviamente, seria inviável se tivessemos que olhar cada linha para entender como os dados estão apresentados.\n",
        "\n",
        "Na verdade, quando a gente importa um *dataset*, queremos dar uma olhadinha rápida em algumas entradas, só para ter noção dos dados que iremos lidar. Isso é feito facilmente com:\n",
        "\n",
        "* `df.head()` - exibe as 5 primeiras entradas do conjunto de dados\n",
        "* `df.tail()` - exibe as 5 últimas entradas do conjunto de dados"
      ]
    },
    {
      "cell_type": "code",
      "metadata": {
        "id": "Ng4CDvYIilxO",
        "colab_type": "code",
        "colab": {
          "base_uri": "https://localhost:8080/",
          "height": 204
        },
        "outputId": "c48aa0ff-1b77-4007-aced-45968f25b430"
      },
      "source": [
        "# mostrar as 5 primeiras entradas do DataFrame\n",
        "df.head()"
      ],
      "execution_count": 6,
      "outputs": [
        {
          "output_type": "execute_result",
          "data": {
            "text/html": [
              "<div>\n",
              "<style scoped>\n",
              "    .dataframe tbody tr th:only-of-type {\n",
              "        vertical-align: middle;\n",
              "    }\n",
              "\n",
              "    .dataframe tbody tr th {\n",
              "        vertical-align: top;\n",
              "    }\n",
              "\n",
              "    .dataframe thead th {\n",
              "        text-align: right;\n",
              "    }\n",
              "</style>\n",
              "<table border=\"1\" class=\"dataframe\">\n",
              "  <thead>\n",
              "    <tr style=\"text-align: right;\">\n",
              "      <th></th>\n",
              "      <th>Date</th>\n",
              "      <th>Open</th>\n",
              "      <th>High</th>\n",
              "      <th>Low</th>\n",
              "      <th>Close</th>\n",
              "      <th>Adj Close</th>\n",
              "      <th>Volume</th>\n",
              "    </tr>\n",
              "  </thead>\n",
              "  <tbody>\n",
              "    <tr>\n",
              "      <th>0</th>\n",
              "      <td>2019-06-10</td>\n",
              "      <td>1290.0</td>\n",
              "      <td>1292.0</td>\n",
              "      <td>1280.0</td>\n",
              "      <td>1283.0</td>\n",
              "      <td>1246.699219</td>\n",
              "      <td>1370700</td>\n",
              "    </tr>\n",
              "    <tr>\n",
              "      <th>1</th>\n",
              "      <td>2019-06-11</td>\n",
              "      <td>1281.0</td>\n",
              "      <td>1297.0</td>\n",
              "      <td>1276.0</td>\n",
              "      <td>1290.0</td>\n",
              "      <td>1253.501221</td>\n",
              "      <td>943400</td>\n",
              "    </tr>\n",
              "    <tr>\n",
              "      <th>2</th>\n",
              "      <td>2019-06-12</td>\n",
              "      <td>1291.0</td>\n",
              "      <td>1304.0</td>\n",
              "      <td>1289.0</td>\n",
              "      <td>1299.0</td>\n",
              "      <td>1262.246460</td>\n",
              "      <td>1093200</td>\n",
              "    </tr>\n",
              "    <tr>\n",
              "      <th>3</th>\n",
              "      <td>2019-06-13</td>\n",
              "      <td>1300.0</td>\n",
              "      <td>1308.0</td>\n",
              "      <td>1294.0</td>\n",
              "      <td>1305.0</td>\n",
              "      <td>1268.076660</td>\n",
              "      <td>1263500</td>\n",
              "    </tr>\n",
              "    <tr>\n",
              "      <th>4</th>\n",
              "      <td>2019-06-14</td>\n",
              "      <td>1310.0</td>\n",
              "      <td>1323.0</td>\n",
              "      <td>1302.0</td>\n",
              "      <td>1313.0</td>\n",
              "      <td>1275.850464</td>\n",
              "      <td>1667000</td>\n",
              "    </tr>\n",
              "  </tbody>\n",
              "</table>\n",
              "</div>"
            ],
            "text/plain": [
              "         Date    Open    High     Low   Close    Adj Close   Volume\n",
              "0  2019-06-10  1290.0  1292.0  1280.0  1283.0  1246.699219  1370700\n",
              "1  2019-06-11  1281.0  1297.0  1276.0  1290.0  1253.501221   943400\n",
              "2  2019-06-12  1291.0  1304.0  1289.0  1299.0  1262.246460  1093200\n",
              "3  2019-06-13  1300.0  1308.0  1294.0  1305.0  1268.076660  1263500\n",
              "4  2019-06-14  1310.0  1323.0  1302.0  1313.0  1275.850464  1667000"
            ]
          },
          "metadata": {
            "tags": []
          },
          "execution_count": 6
        }
      ]
    },
    {
      "cell_type": "code",
      "metadata": {
        "id": "r1fjsQsgiocH",
        "colab_type": "code",
        "colab": {
          "base_uri": "https://localhost:8080/",
          "height": 204
        },
        "outputId": "d4e5e4f5-5e2c-46d4-8267-6141c728dc98"
      },
      "source": [
        "# mostrar as 5 últimas entradas do DataFrame\n",
        "df.tail()"
      ],
      "execution_count": 7,
      "outputs": [
        {
          "output_type": "execute_result",
          "data": {
            "text/html": [
              "<div>\n",
              "<style scoped>\n",
              "    .dataframe tbody tr th:only-of-type {\n",
              "        vertical-align: middle;\n",
              "    }\n",
              "\n",
              "    .dataframe tbody tr th {\n",
              "        vertical-align: top;\n",
              "    }\n",
              "\n",
              "    .dataframe thead th {\n",
              "        text-align: right;\n",
              "    }\n",
              "</style>\n",
              "<table border=\"1\" class=\"dataframe\">\n",
              "  <thead>\n",
              "    <tr style=\"text-align: right;\">\n",
              "      <th></th>\n",
              "      <th>Date</th>\n",
              "      <th>Open</th>\n",
              "      <th>High</th>\n",
              "      <th>Low</th>\n",
              "      <th>Close</th>\n",
              "      <th>Adj Close</th>\n",
              "      <th>Volume</th>\n",
              "    </tr>\n",
              "  </thead>\n",
              "  <tbody>\n",
              "    <tr>\n",
              "      <th>238</th>\n",
              "      <td>2020-06-03</td>\n",
              "      <td>1937.0</td>\n",
              "      <td>1952.0</td>\n",
              "      <td>1875.0</td>\n",
              "      <td>1896.0</td>\n",
              "      <td>1896.0</td>\n",
              "      <td>1218400</td>\n",
              "    </tr>\n",
              "    <tr>\n",
              "      <th>239</th>\n",
              "      <td>2020-06-04</td>\n",
              "      <td>1921.0</td>\n",
              "      <td>1921.0</td>\n",
              "      <td>1859.0</td>\n",
              "      <td>1885.0</td>\n",
              "      <td>1885.0</td>\n",
              "      <td>989100</td>\n",
              "    </tr>\n",
              "    <tr>\n",
              "      <th>240</th>\n",
              "      <td>2020-06-05</td>\n",
              "      <td>1888.0</td>\n",
              "      <td>1900.0</td>\n",
              "      <td>1863.0</td>\n",
              "      <td>1893.0</td>\n",
              "      <td>1893.0</td>\n",
              "      <td>1107800</td>\n",
              "    </tr>\n",
              "    <tr>\n",
              "      <th>241</th>\n",
              "      <td>2020-06-08</td>\n",
              "      <td>1919.0</td>\n",
              "      <td>1965.0</td>\n",
              "      <td>1908.0</td>\n",
              "      <td>1958.0</td>\n",
              "      <td>1958.0</td>\n",
              "      <td>1296200</td>\n",
              "    </tr>\n",
              "    <tr>\n",
              "      <th>242</th>\n",
              "      <td>2020-06-09</td>\n",
              "      <td>1956.0</td>\n",
              "      <td>1957.0</td>\n",
              "      <td>1937.0</td>\n",
              "      <td>1951.0</td>\n",
              "      <td>1951.0</td>\n",
              "      <td>100900</td>\n",
              "    </tr>\n",
              "  </tbody>\n",
              "</table>\n",
              "</div>"
            ],
            "text/plain": [
              "           Date    Open    High     Low   Close  Adj Close   Volume\n",
              "238  2020-06-03  1937.0  1952.0  1875.0  1896.0     1896.0  1218400\n",
              "239  2020-06-04  1921.0  1921.0  1859.0  1885.0     1885.0   989100\n",
              "240  2020-06-05  1888.0  1900.0  1863.0  1893.0     1893.0  1107800\n",
              "241  2020-06-08  1919.0  1965.0  1908.0  1958.0     1958.0  1296200\n",
              "242  2020-06-09  1956.0  1957.0  1937.0  1951.0     1951.0   100900"
            ]
          },
          "metadata": {
            "tags": []
          },
          "execution_count": 7
        }
      ]
    },
    {
      "cell_type": "markdown",
      "metadata": {
        "id": "NBWioyE5itGv",
        "colab_type": "text"
      },
      "source": [
        "Um dos motivos da popularidade do Pandas é por causa dessa capacidade de conseguir mostrar os dados como se estivessem em uma tabela, um formato bem amigável para a compreensão do nosso cérebro.\n",
        "\n",
        "Compare com aquela imagem lá em cima, do Excel. É um formato que estamos bem habituados a enxergar.\n",
        "\n",
        "Vamos supor que você precise extrair apenas os nomes das colunas do seu *DataFrame* - basta executar:"
      ]
    },
    {
      "cell_type": "code",
      "metadata": {
        "id": "hj3nkLweiy2B",
        "colab_type": "code",
        "colab": {
          "base_uri": "https://localhost:8080/",
          "height": 34
        },
        "outputId": "40e10a0d-19e2-4df8-f6b3-91811521f468"
      },
      "source": [
        "# ver os nomes das colunas\n",
        "df.columns"
      ],
      "execution_count": 8,
      "outputs": [
        {
          "output_type": "execute_result",
          "data": {
            "text/plain": [
              "Index(['Date', 'Open', 'High', 'Low', 'Close', 'Adj Close', 'Volume'], dtype='object')"
            ]
          },
          "metadata": {
            "tags": []
          },
          "execution_count": 8
        }
      ]
    },
    {
      "cell_type": "markdown",
      "metadata": {
        "id": "yyuXSUu4i4BX",
        "colab_type": "text"
      },
      "source": [
        "Conhecer o tipo de variável que está representado em cada coluna é essencial. Por exemplo:\n",
        "\n",
        "* Quando temos uma coluna que trata de receita, despesa ou lucro, é desejável que lidemos com variáveis do tipo `float`.\n",
        "* Quando estamos lidando com anos (2017, 2018, 2019), iremos desejar trabalhar com variáveis do tipo `int`.\n",
        "* Quanto temos datas completas (`2019-12-30 07:37`), iremos desejar usar o formato `datetime`, para conseguir manipular adequadamente o *dataset*.\n",
        "\n",
        "Para conhecer os tipos de variáveis de cada coluna, use `df.dtypes`."
      ]
    },
    {
      "cell_type": "code",
      "metadata": {
        "id": "aZUR6KybjBIw",
        "colab_type": "code",
        "colab": {
          "base_uri": "https://localhost:8080/",
          "height": 153
        },
        "outputId": "652f4a8f-975a-4dd5-b3c6-910a81766299"
      },
      "source": [
        "df.dtypes"
      ],
      "execution_count": 9,
      "outputs": [
        {
          "output_type": "execute_result",
          "data": {
            "text/plain": [
              "Date          object\n",
              "Open         float64\n",
              "High         float64\n",
              "Low          float64\n",
              "Close        float64\n",
              "Adj Close    float64\n",
              "Volume         int64\n",
              "dtype: object"
            ]
          },
          "metadata": {
            "tags": []
          },
          "execution_count": 9
        }
      ]
    },
    {
      "cell_type": "markdown",
      "metadata": {
        "id": "6QXGdJ_EjGe9",
        "colab_type": "text"
      },
      "source": [
        "Uma outra maneira de descobrir o tipo das variáveis e ainda ver os valores ausentes nas células, é por meio do método `df.info()`.\n",
        "\n",
        "Veja como ele consegue retornar essas informações de maneira tabular."
      ]
    },
    {
      "cell_type": "code",
      "metadata": {
        "id": "oEYzIF11jLpF",
        "colab_type": "code",
        "colab": {
          "base_uri": "https://localhost:8080/",
          "height": 255
        },
        "outputId": "f55bc6a6-229f-4c88-ae87-1920af7acd3e"
      },
      "source": [
        "df.info()"
      ],
      "execution_count": 10,
      "outputs": [
        {
          "output_type": "stream",
          "text": [
            "<class 'pandas.core.frame.DataFrame'>\n",
            "RangeIndex: 243 entries, 0 to 242\n",
            "Data columns (total 7 columns):\n",
            " #   Column     Non-Null Count  Dtype  \n",
            "---  ------     --------------  -----  \n",
            " 0   Date       243 non-null    object \n",
            " 1   Open       243 non-null    float64\n",
            " 2   High       243 non-null    float64\n",
            " 3   Low        243 non-null    float64\n",
            " 4   Close      243 non-null    float64\n",
            " 5   Adj Close  243 non-null    float64\n",
            " 6   Volume     243 non-null    int64  \n",
            "dtypes: float64(5), int64(1), object(1)\n",
            "memory usage: 13.4+ KB\n"
          ],
          "name": "stdout"
        }
      ]
    },
    {
      "cell_type": "markdown",
      "metadata": {
        "id": "N7AuVfVLjTql",
        "colab_type": "text"
      },
      "source": [
        "### Selecionando colunas\n",
        "\n",
        "Há diversas maneiras de selecionar um sub-conjunto de dados em uma estrutura *DataFrame*.\n",
        "\n",
        "Na maioria dos casos, o que queremos fazer é selecionar apenas uma coluna de todo o *DataFrame*.\n",
        "\n",
        "Para selecionar uma variável, você deve colocar o nome da coluna entre colchetes, referenciando a variável onde os seus dados foram importados."
      ]
    },
    {
      "cell_type": "code",
      "metadata": {
        "id": "wUCqR-egjaha",
        "colab_type": "code",
        "colab": {
          "base_uri": "https://localhost:8080/",
          "height": 221
        },
        "outputId": "1054ff4a-329f-4b91-b629-920c743f5534"
      },
      "source": [
        "# selecionar a variável (coluna) \"High\" da nossa variável df\n",
        "df[\"High\"]"
      ],
      "execution_count": 11,
      "outputs": [
        {
          "output_type": "execute_result",
          "data": {
            "text/plain": [
              "0      1292.0\n",
              "1      1297.0\n",
              "2      1304.0\n",
              "3      1308.0\n",
              "4      1323.0\n",
              "        ...  \n",
              "238    1952.0\n",
              "239    1921.0\n",
              "240    1900.0\n",
              "241    1965.0\n",
              "242    1957.0\n",
              "Name: High, Length: 243, dtype: float64"
            ]
          },
          "metadata": {
            "tags": []
          },
          "execution_count": 11
        }
      ]
    },
    {
      "cell_type": "markdown",
      "metadata": {
        "id": "I_nfU_Ikjerr",
        "colab_type": "text"
      },
      "source": [
        "Caso o nome das coluna não contenha espaços em branco e caracteres especiais, você consegue selecionar ela de outra maneira (muito mais prática, na minha opinião).\n",
        "\n",
        "No lugar de `df[\"High\"]` você pode usar `df.High`, que terá o mesmo efeito."
      ]
    },
    {
      "cell_type": "code",
      "metadata": {
        "id": "nOIcMkWijl7-",
        "colab_type": "code",
        "colab": {
          "base_uri": "https://localhost:8080/",
          "height": 221
        },
        "outputId": "5606b442-47f1-457e-fe7f-80f9928c4fab"
      },
      "source": [
        "# selecionar a variável (coluna) \"High\" da nossa variável df\n",
        "df.High"
      ],
      "execution_count": 12,
      "outputs": [
        {
          "output_type": "execute_result",
          "data": {
            "text/plain": [
              "0      1292.0\n",
              "1      1297.0\n",
              "2      1304.0\n",
              "3      1308.0\n",
              "4      1323.0\n",
              "        ...  \n",
              "238    1952.0\n",
              "239    1921.0\n",
              "240    1900.0\n",
              "241    1965.0\n",
              "242    1957.0\n",
              "Name: High, Length: 243, dtype: float64"
            ]
          },
          "metadata": {
            "tags": []
          },
          "execution_count": 12
        }
      ]
    },
    {
      "cell_type": "markdown",
      "metadata": {
        "id": "JbNhD0o3jqUO",
        "colab_type": "text"
      },
      "source": [
        "### Calculando a média de uma coluna\n",
        "\n",
        "Quando executamos o código `df.High`, você viu acima que foi impressa apenas a coluna de valores `High`. Para encontrar a média desses valores, basta utilizar `df.High.mean()`."
      ]
    },
    {
      "cell_type": "code",
      "metadata": {
        "id": "-M7KurCmjvlu",
        "colab_type": "code",
        "colab": {
          "base_uri": "https://localhost:8080/",
          "height": 34
        },
        "outputId": "6869c92b-1724-4133-a09d-440ccd94377c"
      },
      "source": [
        "# calcular a média da coluna \"High\"\n",
        "df.High.mean()"
      ],
      "execution_count": 13,
      "outputs": [
        {
          "output_type": "execute_result",
          "data": {
            "text/plain": [
              "1743.2592592592594"
            ]
          },
          "metadata": {
            "tags": []
          },
          "execution_count": 13
        }
      ]
    },
    {
      "cell_type": "markdown",
      "metadata": {
        "id": "57ecP8L1jzFB",
        "colab_type": "text"
      },
      "source": [
        "Isso significa que a média dos valores da coluna `High` é `1743.2592592592594`. Como vamos ver ao longo do curso, existem muitas outras medidas importantes."
      ]
    },
    {
      "cell_type": "markdown",
      "metadata": {
        "id": "L6EJHOb7j63x",
        "colab_type": "text"
      },
      "source": [
        "## Trabalhando com datas (`datetime`)\n",
        "\n",
        "Quando você importar um arquivo que tenha datas, provavelmente o Pandas não irá reconhecer as mesmas de maneira automática.\n",
        "\n",
        "Quando você checou `df.info()`, viu que a coluna `Date` estava como `object`. No caso, ela é apenas texto (`string`) e não permite a extração de muita coisa útil.\n",
        "\n",
        "Vamos converter a coluna usando `pd.to_datetime` e informando qual o formato da nossa data."
      ]
    },
    {
      "cell_type": "code",
      "metadata": {
        "id": "mDZIvdfTkFhi",
        "colab_type": "code",
        "colab": {
          "base_uri": "https://localhost:8080/",
          "height": 221
        },
        "outputId": "f15c336a-241a-41c1-ed5f-4819b6fc19ee"
      },
      "source": [
        "# antes\n",
        "df.Date"
      ],
      "execution_count": 14,
      "outputs": [
        {
          "output_type": "execute_result",
          "data": {
            "text/plain": [
              "0      2019-06-10\n",
              "1      2019-06-11\n",
              "2      2019-06-12\n",
              "3      2019-06-13\n",
              "4      2019-06-14\n",
              "          ...    \n",
              "238    2020-06-03\n",
              "239    2020-06-04\n",
              "240    2020-06-05\n",
              "241    2020-06-08\n",
              "242    2020-06-09\n",
              "Name: Date, Length: 243, dtype: object"
            ]
          },
          "metadata": {
            "tags": []
          },
          "execution_count": 14
        }
      ]
    },
    {
      "cell_type": "code",
      "metadata": {
        "id": "yk2LC_85kIoA",
        "colab_type": "code",
        "colab": {}
      },
      "source": [
        "# converter coluna Date em datetime\n",
        "df.Date = pd.to_datetime(df.Date, format=\"%Y-%m-%d\")"
      ],
      "execution_count": 0,
      "outputs": []
    },
    {
      "cell_type": "code",
      "metadata": {
        "id": "AEVXbznDkL7n",
        "colab_type": "code",
        "colab": {
          "base_uri": "https://localhost:8080/",
          "height": 221
        },
        "outputId": "dd3133cb-5173-4b50-ae1c-ae780057b368"
      },
      "source": [
        "# depois\n",
        "df.Date"
      ],
      "execution_count": 16,
      "outputs": [
        {
          "output_type": "execute_result",
          "data": {
            "text/plain": [
              "0     2019-06-10\n",
              "1     2019-06-11\n",
              "2     2019-06-12\n",
              "3     2019-06-13\n",
              "4     2019-06-14\n",
              "         ...    \n",
              "238   2020-06-03\n",
              "239   2020-06-04\n",
              "240   2020-06-05\n",
              "241   2020-06-08\n",
              "242   2020-06-09\n",
              "Name: Date, Length: 243, dtype: datetime64[ns]"
            ]
          },
          "metadata": {
            "tags": []
          },
          "execution_count": 16
        }
      ]
    },
    {
      "cell_type": "markdown",
      "metadata": {
        "id": "MdbCrtiIkRG9",
        "colab_type": "text"
      },
      "source": [
        "Olhe como agora eu consigo acessar apenas os componentes de uma data, individualmente, usando `df.Date.dt`"
      ]
    },
    {
      "cell_type": "code",
      "metadata": {
        "id": "5sbD3roskUIr",
        "colab_type": "code",
        "colab": {
          "base_uri": "https://localhost:8080/",
          "height": 221
        },
        "outputId": "2c43c64f-d963-4ed7-b739-1f5e0518ddec"
      },
      "source": [
        "df.Date.dt.year"
      ],
      "execution_count": 17,
      "outputs": [
        {
          "output_type": "execute_result",
          "data": {
            "text/plain": [
              "0      2019\n",
              "1      2019\n",
              "2      2019\n",
              "3      2019\n",
              "4      2019\n",
              "       ... \n",
              "238    2020\n",
              "239    2020\n",
              "240    2020\n",
              "241    2020\n",
              "242    2020\n",
              "Name: Date, Length: 243, dtype: int64"
            ]
          },
          "metadata": {
            "tags": []
          },
          "execution_count": 17
        }
      ]
    },
    {
      "cell_type": "code",
      "metadata": {
        "id": "piZ9L6BKkWyo",
        "colab_type": "code",
        "colab": {
          "base_uri": "https://localhost:8080/",
          "height": 221
        },
        "outputId": "39a3eba1-a0e8-4f63-9c30-178afc8666c2"
      },
      "source": [
        "df.Date.dt.month"
      ],
      "execution_count": 18,
      "outputs": [
        {
          "output_type": "execute_result",
          "data": {
            "text/plain": [
              "0      6\n",
              "1      6\n",
              "2      6\n",
              "3      6\n",
              "4      6\n",
              "      ..\n",
              "238    6\n",
              "239    6\n",
              "240    6\n",
              "241    6\n",
              "242    6\n",
              "Name: Date, Length: 243, dtype: int64"
            ]
          },
          "metadata": {
            "tags": []
          },
          "execution_count": 18
        }
      ]
    },
    {
      "cell_type": "code",
      "metadata": {
        "id": "X486iKZ_kZ0N",
        "colab_type": "code",
        "colab": {
          "base_uri": "https://localhost:8080/",
          "height": 221
        },
        "outputId": "2a6e0a0e-417d-4bd5-8ad1-a277213aa2e2"
      },
      "source": [
        "df.Date.dt.day"
      ],
      "execution_count": 19,
      "outputs": [
        {
          "output_type": "execute_result",
          "data": {
            "text/plain": [
              "0      10\n",
              "1      11\n",
              "2      12\n",
              "3      13\n",
              "4      14\n",
              "       ..\n",
              "238     3\n",
              "239     4\n",
              "240     5\n",
              "241     8\n",
              "242     9\n",
              "Name: Date, Length: 243, dtype: int64"
            ]
          },
          "metadata": {
            "tags": []
          },
          "execution_count": 19
        }
      ]
    },
    {
      "cell_type": "markdown",
      "metadata": {
        "id": "URwRqHWpkgwo",
        "colab_type": "text"
      },
      "source": [
        "No entanto, há vários formatos que um usuário pode lançar como sendo datas. Você pode encontrar exemplos como:\n",
        "\n",
        "* 31/06/15\n",
        "* 31/06/2015\n",
        "* 31-6-15\n",
        "* 2015-6-31\n",
        "* 31 de junho de 2015\n",
        "\n",
        "Para lidar com tudo isso, você vai ter que entender a documentação. Seguem dois links que serão úteis para isso:\n",
        "\n",
        "* https://pandas.pydata.org/docs/reference/api/pandas.to_datetime.html?highlight=to_datetime#pandas.to_datetime\n",
        "* https://docs.python.org/3/library/datetime.html#strftime-and-strptime-behavior"
      ]
    }
  ]
}